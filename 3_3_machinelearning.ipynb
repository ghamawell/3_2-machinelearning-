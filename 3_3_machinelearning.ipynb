{
  "cells": [
    {
      "cell_type": "markdown",
      "metadata": {
        "id": "view-in-github",
        "colab_type": "text"
      },
      "source": [
        "<a href=\"https://colab.research.google.com/github/ghamawell/3_2-machinelearning-/blob/main/3_3_machinelearning.ipynb\" target=\"_parent\"><img src=\"https://colab.research.google.com/assets/colab-badge.svg\" alt=\"Open In Colab\"/></a>"
      ]
    },
    {
      "cell_type": "markdown",
      "metadata": {
        "id": "q9BFcZXCeBlp"
      },
      "source": [
        "# Lab 3.3 - Student Notebook"
      ]
    },
    {
      "cell_type": "markdown",
      "metadata": {
        "id": "DaTW_oY8eBlq"
      },
      "source": [
        "## Overview\n",
        "\n",
        "This lab does not continue the healthcare-provider scenario. Instead, you will work with data from an [automobile dataset](https://archive.ics.uci.edu/ml/datasets/Automobile).\n",
        "\n",
        "In this lab, you will:\n",
        "\n",
        "- Encode ordinal categorical data\n",
        "- Encode non-ordinal categorical data\n",
        "\n",
        "## About this dataset\n",
        "\n",
        "This dataset consists of three types of entities:\n",
        "\n",
        "1. The specification of an automobile in terms of various characteristics\n",
        "2. Its assigned insurance risk rating\n",
        "3. Its normalized losses in use compared to other cars\n",
        "\n",
        "The second rating corresponds to the degree to which the automobile is riskier than its price indicates. Cars are initially assigned a risk factor symbol that's associated with its price. Then, if it's riskier (or less risky), this symbol is adjusted by moving it up (or down) the scale. Actuarians call this process *symboling*. A value of *+3* indicates that the car is risky. A value of *-3* indicates that the car is probably safe.\n",
        "\n",
        "The third factor is the relative average loss payment per insured vehicle year. This value is normalized for all cars within a particular size classification (two-door small, station wagons, sports or speciality, and others). It represents the average loss per car per year.\n",
        "\n",
        "**Note:** Several attributes in the database could be used as a *class* attribute.\n",
        "\n",
        "## Attribute information\n",
        "\n",
        "Attribute: Attribute Range\n",
        "\n",
        "1. symboling: -3, -2, -1, 0, 1, 2, 3.\n",
        "1. normalized-losses: continuous from 65 to 256.\n",
        "1. fuel-type: diesel, gas.\n",
        "1. aspiration: std, turbo.\n",
        "1. num-of-doors: four, two.\n",
        "1. body-style: hardtop, wagon, sedan, hatchback, convertible.\n",
        "1. drive-wheels: 4wd, fwd, rwd.\n",
        "1. engine-location: front, rear.\n",
        "1. wheel-base: continuous from 86.6 120.9.\n",
        "1. length: continuous from 141.1 to 208.1.\n",
        "1. width: continuous from 60.3 to 72.3.\n",
        "1. height: continuous from 47.8 to 59.8.\n",
        "1. curb-weight: continuous from 1488 to 4066.\n",
        "1. engine-type: dohc, dohcv, l, ohc, ohcf, ohcv, rotor.\n",
        "1. num-of-cylinders: eight, five, four, six, three, twelve, two.\n",
        "1. engine-size: continuous from 61 to 326.\n",
        "1. fuel-system: 1bbl, 2bbl, 4bbl, idi, mfi, mpfi, spdi, spfi.\n",
        "1. bore: continuous from 2.54 to 3.94.\n",
        "1. stroke: continuous from 2.07 to 4.17.\n",
        "1. compression-ratio: continuous from 7 to 23.\n",
        "1. horsepower: continuous from 48 to 288.\n",
        "1. peak-rpm: continuous from 4150 to 6600.\n",
        "1. city-mpg: continuous from 13 to 49.\n",
        "1. highway-mpg: continuous from 16 to 54.\n",
        "1. price: continuous from 5118 to 45400.\n",
        "\n",
        "## Dataset attributions\n",
        "\n",
        "This dataset was obtained from:\n",
        "Dua, D. and Graff, C. (2019). UCI Machine Learning Repository (http://archive.ics.uci.edu/ml). Irvine, CA: University of California, School of Information and Computer Science."
      ]
    },
    {
      "cell_type": "markdown",
      "metadata": {
        "id": "gEgGtFh8eBlq"
      },
      "source": [
        "# Step 1: Importing and exploring the data\n",
        "\n",
        "You will start by examining the data in the dataset.\n",
        "\n",
        "To get the most out of this lab, read the instructions and code before you run the cells. Take time to experiment!\n"
      ]
    },
    {
      "cell_type": "markdown",
      "metadata": {
        "id": "C8MepcIheBlq"
      },
      "source": [
        "Start by importing the pandas package and setting some default display options."
      ]
    },
    {
      "cell_type": "code",
      "execution_count": null,
      "metadata": {
        "id": "WWawnWwweBlr"
      },
      "outputs": [],
      "source": [
        "import pandas as pd\n",
        "\n",
        "pd.set_option('display.max_rows', 500)\n",
        "pd.set_option('display.max_columns', 500)\n",
        "pd.set_option('display.width', 1000)"
      ]
    },
    {
      "cell_type": "markdown",
      "metadata": {
        "id": "8-_zT0S9eBlr"
      },
      "source": [
        "Next, load the dataset into a pandas DataFrame.\n",
        "\n",
        "The data doesn't contain a header, so you will define those column names in a variable that's named `col_names` to the attributes listed in the dataset description.\n",
        "\n"
      ]
    },
    {
      "cell_type": "code",
      "execution_count": null,
      "metadata": {
        "id": "lxh0P6gSeBlr"
      },
      "outputs": [],
      "source": [
        "url = \"imports-85.csv\"\n",
        "col_names=['symboling','normalized-losses','fuel-type','aspiration','num-of-doors','body-style','drive-wheels','engine-location','wheel-base',\n",
        "                                    'length','width','height','curb-weight','engine-type','num-of-cylinders','engine-size',\n",
        "                                    'fuel-system','bore','stroke','compression-ratio','horsepower','peak-rpm','city-mpg','highway-mpg','price']\n",
        "\n",
        "df_car = pd.read_csv(url,sep=',',names = col_names ,na_values=\"?\",  header=None)"
      ]
    },
    {
      "cell_type": "markdown",
      "metadata": {
        "id": "idFBA0XceBlr"
      },
      "source": [
        "First, to see the number of rows (instances) and columns (features), you will use `shape`."
      ]
    },
    {
      "cell_type": "code",
      "execution_count": null,
      "metadata": {
        "id": "B_45YAvmeBlr"
      },
      "outputs": [],
      "source": [
        "df_car.shape"
      ]
    },
    {
      "cell_type": "markdown",
      "metadata": {
        "id": "Qix6BdI-eBlr"
      },
      "source": [
        "Next, examine the data by using the `head` method.\n"
      ]
    },
    {
      "cell_type": "code",
      "execution_count": null,
      "metadata": {
        "id": "u5jVodzBeBlr"
      },
      "outputs": [],
      "source": [
        "df_car.head(5)"
      ]
    },
    {
      "cell_type": "markdown",
      "metadata": {
        "id": "-XNKuS8XeBls"
      },
      "source": [
        "There are 25 columns. Some of the columns have numerical values, but many of them contain text.\n",
        "\n",
        "To display information about the columns, use the `info` method.\n"
      ]
    },
    {
      "cell_type": "code",
      "execution_count": null,
      "metadata": {
        "id": "XERm-yCjeBls"
      },
      "outputs": [],
      "source": [
        "df_car.info()"
      ]
    },
    {
      "cell_type": "markdown",
      "metadata": {
        "id": "2trXA6JyeBls"
      },
      "source": [
        "To make it easier to view the dataset when you start encoding, drop the columns that you won't use.\n"
      ]
    },
    {
      "cell_type": "code",
      "execution_count": null,
      "metadata": {
        "id": "WTipq549eBls"
      },
      "outputs": [],
      "source": [
        "df_car.columns"
      ]
    },
    {
      "cell_type": "code",
      "execution_count": null,
      "metadata": {
        "id": "9QEhb1lBeBls"
      },
      "outputs": [],
      "source": [
        "df_car = df_car[[ 'aspiration', 'num-of-doors',  'drive-wheels',  'num-of-cylinders']].copy()"
      ]
    },
    {
      "cell_type": "markdown",
      "metadata": {
        "id": "26JWkzOVeBls"
      },
      "source": [
        "You now have four columns. These columns all contain text values.\n"
      ]
    },
    {
      "cell_type": "code",
      "execution_count": null,
      "metadata": {
        "id": "Ht3084_9eBls"
      },
      "outputs": [],
      "source": [
        "df_car.head()"
      ]
    },
    {
      "cell_type": "markdown",
      "metadata": {
        "id": "I046VLdWeBls"
      },
      "source": [
        "Most machine learning algorithms require inputs that are numerical values.\n",
        "\n",
        "- The **num-of-cylinders** and **num-of-doors** features have an ordinal value. You could convert the values of these features into their numerical counterparts.\n",
        "- However, **aspiration** and **drive-wheels** don't have an ordinal value. These features must be converted differently.\n",
        "\n",
        "You will explore the ordinal features first.\n"
      ]
    },
    {
      "cell_type": "markdown",
      "metadata": {
        "id": "FwOGiseYeBls"
      },
      "source": [
        "# Step 2: Encoding ordinal features\n",
        "\n",
        "In this step, you will use a mapper function to convert the ordinal features into ordered numerical values.\n",
        "\n",
        "Start by getting the new column types from the DataFrame:\n"
      ]
    },
    {
      "cell_type": "code",
      "execution_count": null,
      "metadata": {
        "id": "n_k2dbhseBls",
        "outputId": "a178ab74-1013-4cad-b8b6-2e1475084c1c"
      },
      "outputs": [
        {
          "name": "stdout",
          "output_type": "stream",
          "text": [
            "<class 'pandas.core.frame.DataFrame'>\n",
            "RangeIndex: 205 entries, 0 to 204\n",
            "Data columns (total 4 columns):\n",
            " #   Column            Non-Null Count  Dtype \n",
            "---  ------            --------------  ----- \n",
            " 0   aspiration        205 non-null    object\n",
            " 1   num-of-doors      203 non-null    object\n",
            " 2   drive-wheels      205 non-null    object\n",
            " 3   num-of-cylinders  205 non-null    object\n",
            "dtypes: object(4)\n",
            "memory usage: 6.5+ KB\n"
          ]
        }
      ],
      "source": [
        "df_car.info()"
      ]
    },
    {
      "cell_type": "markdown",
      "metadata": {
        "id": "7QXufntYeBls"
      },
      "source": [
        "First, determine what values the ordinal columns contain.\n",
        "\n",
        "Starting with the **num-of-doors** feature, you can use `value_counts` to discover the values."
      ]
    },
    {
      "cell_type": "code",
      "execution_count": null,
      "metadata": {
        "id": "b6uj89qbeBls",
        "outputId": "577775a1-5a22-4fe4-b114-9c7b639e1a57"
      },
      "outputs": [
        {
          "data": {
            "text/plain": [
              "num-of-doors\n",
              "four    114\n",
              "two      89\n",
              "Name: count, dtype: int64"
            ]
          },
          "execution_count": 10,
          "metadata": {},
          "output_type": "execute_result"
        }
      ],
      "source": [
        "df_car['num-of-doors'].value_counts()"
      ]
    },
    {
      "cell_type": "markdown",
      "metadata": {
        "id": "bPylCH-seBls"
      },
      "source": [
        "This feature only has two values: *four* and *two*. You can create a simple mapper that contains a dictionary:"
      ]
    },
    {
      "cell_type": "code",
      "execution_count": null,
      "metadata": {
        "id": "h2VhltxQeBls"
      },
      "outputs": [],
      "source": [
        "door_mapper = {\"two\": 2,\n",
        "              \"four\": 4}"
      ]
    },
    {
      "cell_type": "markdown",
      "metadata": {
        "id": "GXyD--hMeBls"
      },
      "source": [
        "You can then use the `replace` method from pandas to generate a new numerical column based on the **num-of-doors** column."
      ]
    },
    {
      "cell_type": "code",
      "execution_count": null,
      "metadata": {
        "id": "5SOX3AhReBls"
      },
      "outputs": [],
      "source": [
        "df_car['doors'] = df_car[\"num-of-doors\"].replace(door_mapper)"
      ]
    },
    {
      "cell_type": "markdown",
      "metadata": {
        "id": "9Jm-370qeBlt"
      },
      "source": [
        "When you display the DataFrame, you should see the new column on the right. It contains a numerical representation of the number of doors.\n"
      ]
    },
    {
      "cell_type": "code",
      "execution_count": null,
      "metadata": {
        "id": "V3LiKWzueBlt",
        "outputId": "a1d9905c-f3a1-4117-8f4f-744a67acb408"
      },
      "outputs": [
        {
          "data": {
            "text/html": [
              "<div>\n",
              "<style scoped>\n",
              "    .dataframe tbody tr th:only-of-type {\n",
              "        vertical-align: middle;\n",
              "    }\n",
              "\n",
              "    .dataframe tbody tr th {\n",
              "        vertical-align: top;\n",
              "    }\n",
              "\n",
              "    .dataframe thead th {\n",
              "        text-align: right;\n",
              "    }\n",
              "</style>\n",
              "<table border=\"1\" class=\"dataframe\">\n",
              "  <thead>\n",
              "    <tr style=\"text-align: right;\">\n",
              "      <th></th>\n",
              "      <th>aspiration</th>\n",
              "      <th>num-of-doors</th>\n",
              "      <th>drive-wheels</th>\n",
              "      <th>num-of-cylinders</th>\n",
              "      <th>doors</th>\n",
              "    </tr>\n",
              "  </thead>\n",
              "  <tbody>\n",
              "    <tr>\n",
              "      <th>0</th>\n",
              "      <td>std</td>\n",
              "      <td>two</td>\n",
              "      <td>rwd</td>\n",
              "      <td>four</td>\n",
              "      <td>2.0</td>\n",
              "    </tr>\n",
              "    <tr>\n",
              "      <th>1</th>\n",
              "      <td>std</td>\n",
              "      <td>two</td>\n",
              "      <td>rwd</td>\n",
              "      <td>four</td>\n",
              "      <td>2.0</td>\n",
              "    </tr>\n",
              "    <tr>\n",
              "      <th>2</th>\n",
              "      <td>std</td>\n",
              "      <td>two</td>\n",
              "      <td>rwd</td>\n",
              "      <td>six</td>\n",
              "      <td>2.0</td>\n",
              "    </tr>\n",
              "    <tr>\n",
              "      <th>3</th>\n",
              "      <td>std</td>\n",
              "      <td>four</td>\n",
              "      <td>fwd</td>\n",
              "      <td>four</td>\n",
              "      <td>4.0</td>\n",
              "    </tr>\n",
              "    <tr>\n",
              "      <th>4</th>\n",
              "      <td>std</td>\n",
              "      <td>four</td>\n",
              "      <td>4wd</td>\n",
              "      <td>five</td>\n",
              "      <td>4.0</td>\n",
              "    </tr>\n",
              "  </tbody>\n",
              "</table>\n",
              "</div>"
            ],
            "text/plain": [
              "  aspiration num-of-doors drive-wheels num-of-cylinders  doors\n",
              "0        std          two          rwd             four    2.0\n",
              "1        std          two          rwd             four    2.0\n",
              "2        std          two          rwd              six    2.0\n",
              "3        std         four          fwd             four    4.0\n",
              "4        std         four          4wd             five    4.0"
            ]
          },
          "execution_count": 13,
          "metadata": {},
          "output_type": "execute_result"
        }
      ],
      "source": [
        "df_car.head()"
      ]
    },
    {
      "cell_type": "markdown",
      "metadata": {
        "id": "a_EAcGuueBlt"
      },
      "source": [
        "Repeat the process with the **num-of-cylinders** column.\n",
        "\n",
        "First, get the values."
      ]
    },
    {
      "cell_type": "code",
      "execution_count": null,
      "metadata": {
        "id": "xgtllylaeBlt",
        "outputId": "7aadb66c-ff4a-4d6c-f890-9a08306ed1f9"
      },
      "outputs": [
        {
          "data": {
            "text/plain": [
              "num-of-cylinders\n",
              "four      159\n",
              "six        24\n",
              "five       11\n",
              "eight       5\n",
              "two         4\n",
              "three       1\n",
              "twelve      1\n",
              "Name: count, dtype: int64"
            ]
          },
          "execution_count": 14,
          "metadata": {},
          "output_type": "execute_result"
        }
      ],
      "source": [
        "df_car['num-of-cylinders'].value_counts()"
      ]
    },
    {
      "cell_type": "markdown",
      "metadata": {
        "id": "j3XL3GlqeBlt"
      },
      "source": [
        "Next, create the mapper."
      ]
    },
    {
      "cell_type": "code",
      "execution_count": null,
      "metadata": {
        "id": "PCrnt3hpeBlt"
      },
      "outputs": [],
      "source": [
        "cylinder_mapper = {\"two\":2,\n",
        "                  \"three\":3,\n",
        "                  \"four\":4,\n",
        "                  \"five\":5,\n",
        "                  \"six\":6,\n",
        "                  \"eight\":8,\n",
        "                  \"twelve\":12}"
      ]
    },
    {
      "cell_type": "markdown",
      "metadata": {
        "id": "PZsVD1xKeBlt"
      },
      "source": [
        "Apply the mapper by using the `replace` method.\n"
      ]
    },
    {
      "cell_type": "code",
      "execution_count": null,
      "metadata": {
        "id": "IXEfl9VreBlt"
      },
      "outputs": [],
      "source": [
        "df_car['cylinders'] = df_car['num-of-cylinders'].replace(cylinder_mapper)"
      ]
    },
    {
      "cell_type": "code",
      "execution_count": null,
      "metadata": {
        "id": "LlF0B4eNeBlt",
        "outputId": "cbe6dd9c-2f0b-4d80-ce21-5e7448ae0ee9"
      },
      "outputs": [
        {
          "data": {
            "text/html": [
              "<div>\n",
              "<style scoped>\n",
              "    .dataframe tbody tr th:only-of-type {\n",
              "        vertical-align: middle;\n",
              "    }\n",
              "\n",
              "    .dataframe tbody tr th {\n",
              "        vertical-align: top;\n",
              "    }\n",
              "\n",
              "    .dataframe thead th {\n",
              "        text-align: right;\n",
              "    }\n",
              "</style>\n",
              "<table border=\"1\" class=\"dataframe\">\n",
              "  <thead>\n",
              "    <tr style=\"text-align: right;\">\n",
              "      <th></th>\n",
              "      <th>aspiration</th>\n",
              "      <th>num-of-doors</th>\n",
              "      <th>drive-wheels</th>\n",
              "      <th>num-of-cylinders</th>\n",
              "      <th>doors</th>\n",
              "      <th>cylinders</th>\n",
              "    </tr>\n",
              "  </thead>\n",
              "  <tbody>\n",
              "    <tr>\n",
              "      <th>0</th>\n",
              "      <td>std</td>\n",
              "      <td>two</td>\n",
              "      <td>rwd</td>\n",
              "      <td>four</td>\n",
              "      <td>2.0</td>\n",
              "      <td>4</td>\n",
              "    </tr>\n",
              "    <tr>\n",
              "      <th>1</th>\n",
              "      <td>std</td>\n",
              "      <td>two</td>\n",
              "      <td>rwd</td>\n",
              "      <td>four</td>\n",
              "      <td>2.0</td>\n",
              "      <td>4</td>\n",
              "    </tr>\n",
              "    <tr>\n",
              "      <th>2</th>\n",
              "      <td>std</td>\n",
              "      <td>two</td>\n",
              "      <td>rwd</td>\n",
              "      <td>six</td>\n",
              "      <td>2.0</td>\n",
              "      <td>6</td>\n",
              "    </tr>\n",
              "    <tr>\n",
              "      <th>3</th>\n",
              "      <td>std</td>\n",
              "      <td>four</td>\n",
              "      <td>fwd</td>\n",
              "      <td>four</td>\n",
              "      <td>4.0</td>\n",
              "      <td>4</td>\n",
              "    </tr>\n",
              "    <tr>\n",
              "      <th>4</th>\n",
              "      <td>std</td>\n",
              "      <td>four</td>\n",
              "      <td>4wd</td>\n",
              "      <td>five</td>\n",
              "      <td>4.0</td>\n",
              "      <td>5</td>\n",
              "    </tr>\n",
              "  </tbody>\n",
              "</table>\n",
              "</div>"
            ],
            "text/plain": [
              "  aspiration num-of-doors drive-wheels num-of-cylinders  doors  cylinders\n",
              "0        std          two          rwd             four    2.0          4\n",
              "1        std          two          rwd             four    2.0          4\n",
              "2        std          two          rwd              six    2.0          6\n",
              "3        std         four          fwd             four    4.0          4\n",
              "4        std         four          4wd             five    4.0          5"
            ]
          },
          "execution_count": 17,
          "metadata": {},
          "output_type": "execute_result"
        }
      ],
      "source": [
        "df_car.head()"
      ]
    },
    {
      "cell_type": "markdown",
      "metadata": {
        "id": "zWcNMSzfeBlt"
      },
      "source": [
        "For more information about the `replace` method, see [pandas.DataFrame.replace](https://pandas.pydata.org/pandas-docs/stable/reference/api/pandas.DataFrame.replace.html) in the pandas documentation."
      ]
    },
    {
      "cell_type": "markdown",
      "metadata": {
        "id": "mLht-eNqeBlt"
      },
      "source": [
        "# Step 3: Encoding non-ordinal categorical data\n",
        "\n",
        "In this step, you will encode non-ordinal data by using the `get_dummies` method from pandas.\n",
        "\n",
        "The two remaining features are not ordinal.\n",
        "\n",
        "According to the attribute description, the following values are possible:\n",
        "\n",
        "- aspiration: std, turbo.\n",
        "- drive-wheels: 4wd, fwd, rwd.\n",
        "\n",
        "You might think that the correct strategy is to convert these values into numerical values. For example, consider the **drive-wheels** feature. You could use *4wd = 1*, *fwd = 2*, and *rwd = 3*. However, *fwd* isn't less than *rwd*. These values don't have an order, but you just introduced an order to them by assigning these numerical values.\n",
        "\n",
        "The correct strategy is to convert these values into *binary features* for each value in the original feature. This process is often called *one-hot encoding* in machine learning, or *dummying* in statistics.\n",
        "\n",
        "pandas provides a `get_dummies` method, which converts the data into binary features. For more information, see [pandas.get_dummies](https://pandas.pydata.org/pandas-docs/stable/reference/api/pandas.get_dummies.html) in the pandas documentation.\n",
        "\n"
      ]
    },
    {
      "cell_type": "markdown",
      "metadata": {
        "id": "M-piJac1eBlt"
      },
      "source": [
        "According to the attribute description, **drive-wheels** has three possible values."
      ]
    },
    {
      "cell_type": "code",
      "execution_count": null,
      "metadata": {
        "id": "rLZ-mhPteBlu",
        "outputId": "c892eb0c-4193-437a-921f-a0c322805e65"
      },
      "outputs": [
        {
          "data": {
            "text/plain": [
              "drive-wheels\n",
              "fwd    120\n",
              "rwd     76\n",
              "4wd      9\n",
              "Name: count, dtype: int64"
            ]
          },
          "execution_count": 18,
          "metadata": {},
          "output_type": "execute_result"
        }
      ],
      "source": [
        "df_car['drive-wheels'].value_counts()"
      ]
    },
    {
      "cell_type": "markdown",
      "metadata": {
        "id": "eIrb6NtceBlu"
      },
      "source": [
        "Use the `get_dummies` method to add new binary features to the DataFrame.\n"
      ]
    },
    {
      "cell_type": "code",
      "execution_count": null,
      "metadata": {
        "id": "muqDv5d6eBlu"
      },
      "outputs": [],
      "source": [
        "df_car = pd.get_dummies(df_car,columns=['drive-wheels'])"
      ]
    },
    {
      "cell_type": "code",
      "execution_count": null,
      "metadata": {
        "id": "Bj5ewDVAeBlu",
        "outputId": "3630740f-8ea8-45c3-cc38-1b22785b2f20"
      },
      "outputs": [
        {
          "data": {
            "text/html": [
              "<div>\n",
              "<style scoped>\n",
              "    .dataframe tbody tr th:only-of-type {\n",
              "        vertical-align: middle;\n",
              "    }\n",
              "\n",
              "    .dataframe tbody tr th {\n",
              "        vertical-align: top;\n",
              "    }\n",
              "\n",
              "    .dataframe thead th {\n",
              "        text-align: right;\n",
              "    }\n",
              "</style>\n",
              "<table border=\"1\" class=\"dataframe\">\n",
              "  <thead>\n",
              "    <tr style=\"text-align: right;\">\n",
              "      <th></th>\n",
              "      <th>aspiration</th>\n",
              "      <th>num-of-doors</th>\n",
              "      <th>num-of-cylinders</th>\n",
              "      <th>doors</th>\n",
              "      <th>cylinders</th>\n",
              "      <th>drive-wheels_4wd</th>\n",
              "      <th>drive-wheels_fwd</th>\n",
              "      <th>drive-wheels_rwd</th>\n",
              "    </tr>\n",
              "  </thead>\n",
              "  <tbody>\n",
              "    <tr>\n",
              "      <th>0</th>\n",
              "      <td>std</td>\n",
              "      <td>two</td>\n",
              "      <td>four</td>\n",
              "      <td>2.0</td>\n",
              "      <td>4</td>\n",
              "      <td>False</td>\n",
              "      <td>False</td>\n",
              "      <td>True</td>\n",
              "    </tr>\n",
              "    <tr>\n",
              "      <th>1</th>\n",
              "      <td>std</td>\n",
              "      <td>two</td>\n",
              "      <td>four</td>\n",
              "      <td>2.0</td>\n",
              "      <td>4</td>\n",
              "      <td>False</td>\n",
              "      <td>False</td>\n",
              "      <td>True</td>\n",
              "    </tr>\n",
              "    <tr>\n",
              "      <th>2</th>\n",
              "      <td>std</td>\n",
              "      <td>two</td>\n",
              "      <td>six</td>\n",
              "      <td>2.0</td>\n",
              "      <td>6</td>\n",
              "      <td>False</td>\n",
              "      <td>False</td>\n",
              "      <td>True</td>\n",
              "    </tr>\n",
              "    <tr>\n",
              "      <th>3</th>\n",
              "      <td>std</td>\n",
              "      <td>four</td>\n",
              "      <td>four</td>\n",
              "      <td>4.0</td>\n",
              "      <td>4</td>\n",
              "      <td>False</td>\n",
              "      <td>True</td>\n",
              "      <td>False</td>\n",
              "    </tr>\n",
              "    <tr>\n",
              "      <th>4</th>\n",
              "      <td>std</td>\n",
              "      <td>four</td>\n",
              "      <td>five</td>\n",
              "      <td>4.0</td>\n",
              "      <td>5</td>\n",
              "      <td>True</td>\n",
              "      <td>False</td>\n",
              "      <td>False</td>\n",
              "    </tr>\n",
              "  </tbody>\n",
              "</table>\n",
              "</div>"
            ],
            "text/plain": [
              "  aspiration num-of-doors num-of-cylinders  doors  cylinders  drive-wheels_4wd  drive-wheels_fwd  drive-wheels_rwd\n",
              "0        std          two             four    2.0          4             False             False              True\n",
              "1        std          two             four    2.0          4             False             False              True\n",
              "2        std          two              six    2.0          6             False             False              True\n",
              "3        std         four             four    4.0          4             False              True             False\n",
              "4        std         four             five    4.0          5              True             False             False"
            ]
          },
          "execution_count": 20,
          "metadata": {},
          "output_type": "execute_result"
        }
      ],
      "source": [
        "df_car.head()"
      ]
    },
    {
      "cell_type": "markdown",
      "metadata": {
        "id": "HdyB1EQ1eBlu"
      },
      "source": [
        "When you examine the dataset, you should see three new columns on the right:\n",
        "\n",
        "- **drive-wheels_4wd**\n",
        "- **drive-wheels_fwd**\n",
        "- **drive-wheels_rwd**\n",
        "\n",
        "The encoding was straightforward. If the value in the **drive-wheels** column is *4wd*, then a *1* is the value in the **drive-wheels_4wd** column. A *0* is the value for the other columns that were generated. If the value in the **drive-wheels** column is *fwd*, then a *1* is the value in the **drive-wheels_fwd** column, and so on.\n",
        "\n",
        "These binary features enable you to express the information in a numerical way, without implying any order.\n"
      ]
    },
    {
      "cell_type": "markdown",
      "metadata": {
        "id": "BnKlRM4JeBlu"
      },
      "source": [
        "Examine the final column that you will encode.\n",
        "\n",
        "The data in the **aspiration** column only has two values: *std* and *turbo*. You could encode this column into two binary features. However, you could also ignore the *std* value and record whether it's *turbo* or not. To do this, you would still use the `get_dummies` method, but specify `drop_first` as *True*.\n"
      ]
    },
    {
      "cell_type": "code",
      "execution_count": null,
      "metadata": {
        "id": "6Bfz3ZTKeBlu",
        "outputId": "b294a6be-05d5-47b5-96c8-7a757a0aeb2f"
      },
      "outputs": [
        {
          "data": {
            "text/plain": [
              "aspiration\n",
              "std      168\n",
              "turbo     37\n",
              "Name: count, dtype: int64"
            ]
          },
          "execution_count": 21,
          "metadata": {},
          "output_type": "execute_result"
        }
      ],
      "source": [
        "df_car['aspiration'].value_counts()"
      ]
    },
    {
      "cell_type": "code",
      "execution_count": null,
      "metadata": {
        "id": "dVKwKWYgeBlu"
      },
      "outputs": [],
      "source": [
        "df_car = pd.get_dummies(df_car,columns=['aspiration'], drop_first=True)"
      ]
    },
    {
      "cell_type": "code",
      "execution_count": null,
      "metadata": {
        "id": "ax5pe3d_eBlu",
        "outputId": "08779220-aac8-49a3-c89b-244edfbd36bf"
      },
      "outputs": [
        {
          "data": {
            "text/html": [
              "<div>\n",
              "<style scoped>\n",
              "    .dataframe tbody tr th:only-of-type {\n",
              "        vertical-align: middle;\n",
              "    }\n",
              "\n",
              "    .dataframe tbody tr th {\n",
              "        vertical-align: top;\n",
              "    }\n",
              "\n",
              "    .dataframe thead th {\n",
              "        text-align: right;\n",
              "    }\n",
              "</style>\n",
              "<table border=\"1\" class=\"dataframe\">\n",
              "  <thead>\n",
              "    <tr style=\"text-align: right;\">\n",
              "      <th></th>\n",
              "      <th>num-of-doors</th>\n",
              "      <th>num-of-cylinders</th>\n",
              "      <th>doors</th>\n",
              "      <th>cylinders</th>\n",
              "      <th>drive-wheels_4wd</th>\n",
              "      <th>drive-wheels_fwd</th>\n",
              "      <th>drive-wheels_rwd</th>\n",
              "      <th>aspiration_turbo</th>\n",
              "    </tr>\n",
              "  </thead>\n",
              "  <tbody>\n",
              "    <tr>\n",
              "      <th>0</th>\n",
              "      <td>two</td>\n",
              "      <td>four</td>\n",
              "      <td>2.0</td>\n",
              "      <td>4</td>\n",
              "      <td>False</td>\n",
              "      <td>False</td>\n",
              "      <td>True</td>\n",
              "      <td>False</td>\n",
              "    </tr>\n",
              "    <tr>\n",
              "      <th>1</th>\n",
              "      <td>two</td>\n",
              "      <td>four</td>\n",
              "      <td>2.0</td>\n",
              "      <td>4</td>\n",
              "      <td>False</td>\n",
              "      <td>False</td>\n",
              "      <td>True</td>\n",
              "      <td>False</td>\n",
              "    </tr>\n",
              "    <tr>\n",
              "      <th>2</th>\n",
              "      <td>two</td>\n",
              "      <td>six</td>\n",
              "      <td>2.0</td>\n",
              "      <td>6</td>\n",
              "      <td>False</td>\n",
              "      <td>False</td>\n",
              "      <td>True</td>\n",
              "      <td>False</td>\n",
              "    </tr>\n",
              "    <tr>\n",
              "      <th>3</th>\n",
              "      <td>four</td>\n",
              "      <td>four</td>\n",
              "      <td>4.0</td>\n",
              "      <td>4</td>\n",
              "      <td>False</td>\n",
              "      <td>True</td>\n",
              "      <td>False</td>\n",
              "      <td>False</td>\n",
              "    </tr>\n",
              "    <tr>\n",
              "      <th>4</th>\n",
              "      <td>four</td>\n",
              "      <td>five</td>\n",
              "      <td>4.0</td>\n",
              "      <td>5</td>\n",
              "      <td>True</td>\n",
              "      <td>False</td>\n",
              "      <td>False</td>\n",
              "      <td>False</td>\n",
              "    </tr>\n",
              "  </tbody>\n",
              "</table>\n",
              "</div>"
            ],
            "text/plain": [
              "  num-of-doors num-of-cylinders  doors  cylinders  drive-wheels_4wd  drive-wheels_fwd  drive-wheels_rwd  aspiration_turbo\n",
              "0          two             four    2.0          4             False             False              True             False\n",
              "1          two             four    2.0          4             False             False              True             False\n",
              "2          two              six    2.0          6             False             False              True             False\n",
              "3         four             four    4.0          4             False              True             False             False\n",
              "4         four             five    4.0          5              True             False             False             False"
            ]
          },
          "execution_count": 23,
          "metadata": {},
          "output_type": "execute_result"
        }
      ],
      "source": [
        "df_car.head()"
      ]
    },
    {
      "cell_type": "markdown",
      "metadata": {
        "id": "t-EzTetUeBlu"
      },
      "source": [
        "**Challenge task:** Go back to the beginning of this lab, and add other columns to the dataset. How would you encode the values of each column? Update the code to include some of the other features."
      ]
    },
    {
      "cell_type": "markdown",
      "metadata": {
        "id": "wWKUC70HeBlu"
      },
      "source": [
        "# Congratulations!\n",
        "\n",
        "You have completed this lab, and you can now end the lab by following the lab guide instructions."
      ]
    },
    {
      "cell_type": "code",
      "execution_count": null,
      "metadata": {
        "id": "17N_TDaGeBlu"
      },
      "outputs": [],
      "source": []
    }
  ],
  "metadata": {
    "kernelspec": {
      "display_name": "conda_python3",
      "language": "python",
      "name": "conda_python3"
    },
    "language_info": {
      "codemirror_mode": {
        "name": "ipython",
        "version": 3
      },
      "file_extension": ".py",
      "mimetype": "text/x-python",
      "name": "python",
      "nbconvert_exporter": "python",
      "pygments_lexer": "ipython3",
      "version": "3.10.13"
    },
    "vscode": {
      "interpreter": {
        "hash": "b71a13339a0be9489ff337af97259fe0ed71e682663adc836bae31ac651d564e"
      }
    },
    "colab": {
      "provenance": [],
      "cell_execution_strategy": "setup",
      "include_colab_link": true
    }
  },
  "nbformat": 4,
  "nbformat_minor": 0
}